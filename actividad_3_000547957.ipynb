{
  "nbformat": 4,
  "nbformat_minor": 0,
  "metadata": {
    "colab": {
      "provenance": [],
      "authorship_tag": "ABX9TyN+BmKfFtDpu/CPPFb503M5",
      "include_colab_link": true
    },
    "kernelspec": {
      "name": "python3",
      "display_name": "Python 3"
    },
    "language_info": {
      "name": "python"
    }
  },
  "cells": [
    {
      "cell_type": "markdown",
      "metadata": {
        "id": "view-in-github",
        "colab_type": "text"
      },
      "source": [
        "<a href=\"https://colab.research.google.com/github/alvaro1h2/programacion-python-/blob/main/actividad_3_000547957.ipynb\" target=\"_parent\"><img src=\"https://colab.research.google.com/assets/colab-badge.svg\" alt=\"Open In Colab\"/></a>"
      ]
    },
    {
      "cell_type": "code",
      "source": [
        "import math\n",
        "\n",
        "def fdp(x, mu, sigma):\n",
        "    return (1 / (sigma * math.sqrt(2 * math.pi))) * math.exp(-0.5 * ((x - mu) / sigma) ** 2)\n",
        "\n",
        "def filtro_gaussiano(frecuencia):\n",
        "    mu = 1000  # media\n",
        "    sigma = 300  # desviación estándar\n",
        "    prob_acumulada = 0\n",
        "    paso = 1  # paso de 1 Hz para las iteraciones\n",
        "    for x in range(0, frecuencia + paso, paso):\n",
        "        prob_acumulada += fdp(x, mu, sigma) * paso\n",
        "    if prob_acumulada > 0.3:\n",
        "        return \"La señal pasa el filtro.\"\n",
        "    else:\n",
        "        return \"La señal es bloqueada por el filtro.\"\n",
        "\n",
        "# Ejemplo de uso\n",
        "frecuencia_señal = 1200  # Hz\n",
        "print(filtro_gaussiano(frecuencia_señal))"
      ],
      "metadata": {
        "colab": {
          "base_uri": "https://localhost:8080/"
        },
        "id": "l9i8nYp2JloR",
        "outputId": "f6facaac-c10f-463a-de19-ddf24affad38"
      },
      "execution_count": null,
      "outputs": [
        {
          "output_type": "stream",
          "name": "stdout",
          "text": [
            "La señal pasa el filtro.\n"
          ]
        }
      ]
    }
  ]
}